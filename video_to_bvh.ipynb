{
  "cells": [
    {
      "cell_type": "markdown",
      "metadata": {
        "colab_type": "text",
        "id": "P__hA1g6HzpZ"
      },
      "source": [
        "##Initial imports, install, initializations \n",
        "####Be patient it'll take some time :)"
      ]
    },
    {
      "cell_type": "code",
      "execution_count": null,
      "metadata": {
        "colab": {},
        "colab_type": "code",
        "id": "j_YTs3eEFXjW"
      },
      "outputs": [],
      "source": [
        "!git clone https://github.com/talentservice129/keras_Realtime_Multi-Person_Pose_Estimation.git\n",
        "!pip install configobj\n",
        "!apt install ffmpeg\n",
        "!apt-get install blender\n",
        "\n",
        "!git clone https://github.com/talentservice129/hmr2.0.git hmr\n",
        "!wget https://github.com/russoale/hmr2.0/releases/download/2.0/base_model.paired.zip && unzip base_model.paired.zip\n",
        "!mkdir hmr/logs\n",
        "!mkdir \"hmr/logs/paired(joints)\"\n",
        "!mv base_model \"hmr/logs/paried(joints)/\"\n",
        "!pip install -r hmr/requirements.txt\n",
        "!mkdir hmr/output\n",
        "!mkdir hmr/output/csv\n",
        "!mkdir hmr/output/images\n",
        "!mkdir hmr/output/csv_joined\n",
        "!mkdir hmr/output/bvh_animation\n",
        "\n",
        "import os\n",
        "os.chdir('keras_Realtime_Multi-Person_Pose_Estimation')\n",
        "!bash model/get_keras_model.sh\n",
        "!mkdir sample_jsons\n",
        "!mkdir sample_videos\n",
        "!mkdir sample_images\n",
        "\n",
        "exec(open('model_load.py').read())"
      ]
    },
    {
      "cell_type": "markdown",
      "metadata": {
        "colab_type": "text",
        "id": "XNg9osekfr9o"
      },
      "source": [
        "##Upload video"
      ]
    },
    {
      "cell_type": "code",
      "execution_count": null,
      "metadata": {
        "colab": {},
        "colab_type": "code",
        "id": "20WUpg6ffraY"
      },
      "outputs": [],
      "source": [
        "#upload video\n",
        "exec(open('upload_videos.py').read())"
      ]
    },
    {
      "cell_type": "markdown",
      "metadata": {
        "colab_type": "text",
        "id": "gwTyO3683c08"
      },
      "source": [
        "##Process the video\n",
        "####<font color='green'>`24`</font> in `video_to_images.sh` stands for desired fps rate at which you want to convert video to images"
      ]
    },
    {
      "cell_type": "code",
      "execution_count": null,
      "metadata": {
        "colab": {},
        "colab_type": "code",
        "id": "UIAyAmBJ3bJf"
      },
      "outputs": [],
      "source": [
        "#convert to images, specify fps rate\n",
        "!bash video_to_images.sh 24\n",
        "\n",
        "#2d pose estimation. For each image creates corresponding .json file with format\n",
        "#similar to output .json format of openpose (https://github.com/CMU-Perceptual-Computing-Lab/openpose)\n",
        "exec(open('2d_pose_estimation.py').read())\n",
        "\n",
        "#3d pose estimation\n",
        "os.chdir('..')\n",
        "!bash hmr/3dpose_estimate.sh\n",
        "\n",
        "#convert estimated .csv files to bvh\n",
        "!blender --background hmr/csv_to_bvh.blend -noaudio -P hmr/csv_to_bvh.py"
      ]
    },
    {
      "cell_type": "markdown",
      "metadata": {
        "colab_type": "text",
        "id": "nTjDp_WpOK2r"
      },
      "source": [
        "##Download .bvh"
      ]
    },
    {
      "cell_type": "code",
      "execution_count": null,
      "metadata": {
        "colab": {},
        "colab_type": "code",
        "id": "GE3TrWCq6jP_"
      },
      "outputs": [],
      "source": [
        "from google.colab import files\n",
        "files.download('hmr/output/bvh_animation/estimated_animation.bvh')"
      ]
    },
    {
      "cell_type": "markdown",
      "metadata": {
        "colab_type": "text",
        "id": "e3mfmjKlWJxS"
      },
      "source": [
        "##Display results of 3d pose estimation (optional)"
      ]
    },
    {
      "cell_type": "code",
      "execution_count": null,
      "metadata": {
        "colab": {},
        "colab_type": "code",
        "id": "sLFtmdXWVztJ"
      },
      "outputs": [],
      "source": [
        "from IPython.display import Image, display\n",
        "\n",
        "images = os.listdir('hmr/output/images')\n",
        "extensions = {\".jpg\", \".png\", \".gif\", \".bmp\", \".jpeg\"}\n",
        "\n",
        "for image in sorted(images):\n",
        "  for ext in extensions:\n",
        "    if image.endswith(ext):\n",
        "      display(Image('hmr/output/images/'+image, width=512))"
      ]
    },
    {
      "cell_type": "markdown",
      "metadata": {
        "colab_type": "text",
        "id": "3b7kJVtZfMj6"
      },
      "source": [
        "##Clear all the generated data if you want to process new video"
      ]
    },
    {
      "cell_type": "code",
      "execution_count": null,
      "metadata": {
        "colab": {},
        "colab_type": "code",
        "id": "jIWBMk8rfMuB"
      },
      "outputs": [],
      "source": [
        "!rm keras_Realtime_Multi-Person_Pose_Estimation/sample_images/*\n",
        "!rm keras_Realtime_Multi-Person_Pose_Estimation/sample_jsons/*\n",
        "!rm keras_Realtime_Multi-Person_Pose_Estimation/sample_videos/*\n",
        "!rm hmr/output/bvh_animation/*\n",
        "!rm hmr/output/csv/*\n",
        "!rm hmr/output/csv_joined/*\n",
        "!rm hmr/output/images/*"
      ]
    },
    {
      "cell_type": "markdown",
      "metadata": {
        "colab_type": "text",
        "id": "4o7jqjHAW7pA"
      },
      "source": [
        "####Based on:\n",
        "\n",
        "\n",
        "1.   **End-to-end Recovery of Human Shape and Pose** by *Angjoo Kanazawa, Michael J. Black, David W. Jacobs, Jitendra Malik *\n",
        "https://github.com/akanazawa/hmr  \n",
        "\n",
        "  Corresponding fork by *Denis Cera*: https://github.com/Dene33/hmr\n",
        "\n",
        "2.   **Realtime Multi-Person 2D Pose Estimation using Part Affinity Fields** by *Zhe Cao, Tomas Simon, Shih-En Wei, Yaser Sheikh* \\\n",
        "Keras implementation by *Michal Faber*: https://github.com/michalfaber/keras_Realtime_Multi-Person_Pose_Estimation\n",
        "\n",
        "  Corresponding fork by *Denis Cera*: https://github.com/Dene33/keras_Realtime_Multi-Person_Pose_Estimation\n",
        "\n",
        "\n"
      ]
    }
  ],
  "metadata": {
    "accelerator": "GPU",
    "colab": {
      "collapsed_sections": [],
      "name": "video_to_bvh.ipynb",
      "provenance": [],
      "toc_visible": true,
      "version": "0.3.2"
    },
    "kernelspec": {
      "display_name": "Python 3",
      "name": "python3"
    }
  },
  "nbformat": 4,
  "nbformat_minor": 0
}
